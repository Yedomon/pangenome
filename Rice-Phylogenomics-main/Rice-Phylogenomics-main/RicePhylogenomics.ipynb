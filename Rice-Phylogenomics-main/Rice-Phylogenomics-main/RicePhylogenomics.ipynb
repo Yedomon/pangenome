{
 "cells": [
  {
   "cell_type": "code",
   "execution_count": null,
   "metadata": {},
   "outputs": [],
   "source": [
    "import os\n",
    "import pandas as pd\n",
    "from modules import prefix_cell,pangenome_cleaner,parse_pangenome\n",
    "\n",
    "pangenome = \"pangenome.txt\"\n",
    "all = \"pangenome_all.txt\"\n",
    "syn = \"pangenome_syn.txt\"\n",
    "synnet = \"pangenome_synnet.txt\"\n",
    "\n",
    "## let's clean the raw pangenome table obtained from GENESPACE\n",
    "clean_pangenome = pangenome_cleaner(pangenome)\n",
    "\n",
    "## let's then parse the cleaned pangenome\n",
    "parse_pangenome(clean_pangenome,all,syn,synnet)\n",
    "\n",
    "## here we get all the syntenic genes which can be used as input for R package syntenet"
   ]
  },
  {
   "cell_type": "code",
   "execution_count": null,
   "metadata": {},
   "outputs": [],
   "source": [
    "from modules import prepare_fasta_from_synCluster\n",
    "prepare_fasta_from_synCluster(syn,fasta)"
   ]
  }
 ],
 "metadata": {
  "kernelspec": {
   "display_name": "base",
   "language": "python",
   "name": "python3"
  },
  "language_info": {
   "codemirror_mode": {
    "name": "ipython",
    "version": 3
   },
   "file_extension": ".py",
   "mimetype": "text/x-python",
   "name": "python",
   "nbconvert_exporter": "python",
   "pygments_lexer": "ipython3",
   "version": "3.9.13"
  }
 },
 "nbformat": 4,
 "nbformat_minor": 2
}
